{
 "cells": [
  {
   "cell_type": "code",
   "execution_count": 9,
   "metadata": {},
   "outputs": [],
   "source": [
    "import numpy as np\n",
    "import pandas as pd\n",
    "import sklearn\n",
    "import matplotlib.pyplot as plt\n",
    "\n",
    "from sklearn.model_selection import GridSearchCV\n",
    "\n",
    "from sklearn.metrics import r2_score,mean_squared_error\n",
    "from sklearn.svm import SVR\n",
    "from sklearn.model_selection import train_test_split\n",
    "from sklearn.metrics import accuracy_score\n",
    "from sklearn.model_selection import cross_val_score\n",
    "from sklearn import preprocessing\n",
    "from sklearn import metrics\n",
    "from sklearn.preprocessing import scale\n",
    "from sklearn.neighbors import KNeighborsClassifier\n",
    "\n",
    "from sklearn.linear_model import LogisticRegression\n",
    "from sklearn.neighbors import KNeighborsClassifier\n",
    "from sklearn.model_selection import train_test_split\n",
    "from sklearn.metrics import accuracy_score\n",
    "from sklearn.tree import DecisionTreeClassifier\n",
    "from sklearn.ensemble import AdaBoostClassifier\n",
    "from xgboost import XGBClassifier\n",
    "from sklearn.ensemble import RandomForestClassifier\n",
    "from sklearn.neural_network import MLPClassifier\n",
    "\n",
    "from sklearn.naive_bayes import GaussianNB\n",
    "from sklearn.linear_model import LinearRegression\n",
    "\n",
    "seed = 1\n",
    "np.random.seed(seed)"
   ]
  },
  {
   "cell_type": "markdown",
   "metadata": {},
   "source": [
    "We import our dataset here"
   ]
  },
  {
   "cell_type": "code",
   "execution_count": 10,
   "metadata": {},
   "outputs": [
    {
     "data": {
      "text/plain": [
       "(252000, 13)"
      ]
     },
     "execution_count": 10,
     "metadata": {},
     "output_type": "execute_result"
    }
   ],
   "source": [
    "df = pd.DataFrame()\n",
    "df = pd.read_csv(\"https://raw.githubusercontent.com/christianesqueda/temp-repo/main/Training%20Data.csv\")\n",
    "df.shape"
   ]
  },
  {
   "cell_type": "code",
   "execution_count": 11,
   "metadata": {},
   "outputs": [
    {
     "data": {
      "text/html": [
       "<div>\n",
       "<style scoped>\n",
       "    .dataframe tbody tr th:only-of-type {\n",
       "        vertical-align: middle;\n",
       "    }\n",
       "\n",
       "    .dataframe tbody tr th {\n",
       "        vertical-align: top;\n",
       "    }\n",
       "\n",
       "    .dataframe thead th {\n",
       "        text-align: right;\n",
       "    }\n",
       "</style>\n",
       "<table border=\"1\" class=\"dataframe\">\n",
       "  <thead>\n",
       "    <tr style=\"text-align: right;\">\n",
       "      <th></th>\n",
       "      <th>Id</th>\n",
       "      <th>income</th>\n",
       "      <th>age</th>\n",
       "      <th>experience</th>\n",
       "      <th>married</th>\n",
       "      <th>house_ownership</th>\n",
       "      <th>car_ownership</th>\n",
       "      <th>profession</th>\n",
       "      <th>city</th>\n",
       "      <th>state</th>\n",
       "      <th>current_job_years</th>\n",
       "      <th>current_house_years</th>\n",
       "      <th>risk_flag</th>\n",
       "    </tr>\n",
       "  </thead>\n",
       "  <tbody>\n",
       "    <tr>\n",
       "      <th>0</th>\n",
       "      <td>1</td>\n",
       "      <td>1303835</td>\n",
       "      <td>23</td>\n",
       "      <td>3</td>\n",
       "      <td>single</td>\n",
       "      <td>rented</td>\n",
       "      <td>no</td>\n",
       "      <td>Mechanical_engineer</td>\n",
       "      <td>Rewa</td>\n",
       "      <td>Madhya_Pradesh</td>\n",
       "      <td>3</td>\n",
       "      <td>13</td>\n",
       "      <td>0</td>\n",
       "    </tr>\n",
       "    <tr>\n",
       "      <th>100</th>\n",
       "      <td>101</td>\n",
       "      <td>4336059</td>\n",
       "      <td>54</td>\n",
       "      <td>12</td>\n",
       "      <td>single</td>\n",
       "      <td>rented</td>\n",
       "      <td>yes</td>\n",
       "      <td>Firefighter</td>\n",
       "      <td>Katihar</td>\n",
       "      <td>Bihar</td>\n",
       "      <td>12</td>\n",
       "      <td>13</td>\n",
       "      <td>0</td>\n",
       "    </tr>\n",
       "    <tr>\n",
       "      <th>200</th>\n",
       "      <td>201</td>\n",
       "      <td>5330432</td>\n",
       "      <td>47</td>\n",
       "      <td>2</td>\n",
       "      <td>single</td>\n",
       "      <td>rented</td>\n",
       "      <td>yes</td>\n",
       "      <td>Chemical_engineer</td>\n",
       "      <td>Bidhannagar</td>\n",
       "      <td>West_Bengal</td>\n",
       "      <td>2</td>\n",
       "      <td>10</td>\n",
       "      <td>0</td>\n",
       "    </tr>\n",
       "    <tr>\n",
       "      <th>300</th>\n",
       "      <td>301</td>\n",
       "      <td>2277429</td>\n",
       "      <td>42</td>\n",
       "      <td>18</td>\n",
       "      <td>single</td>\n",
       "      <td>rented</td>\n",
       "      <td>no</td>\n",
       "      <td>Analyst</td>\n",
       "      <td>Amaravati</td>\n",
       "      <td>Andhra_Pradesh</td>\n",
       "      <td>4</td>\n",
       "      <td>14</td>\n",
       "      <td>0</td>\n",
       "    </tr>\n",
       "    <tr>\n",
       "      <th>400</th>\n",
       "      <td>401</td>\n",
       "      <td>9454655</td>\n",
       "      <td>35</td>\n",
       "      <td>7</td>\n",
       "      <td>single</td>\n",
       "      <td>rented</td>\n",
       "      <td>no</td>\n",
       "      <td>Magistrate</td>\n",
       "      <td>Srikakulam</td>\n",
       "      <td>Andhra_Pradesh</td>\n",
       "      <td>7</td>\n",
       "      <td>14</td>\n",
       "      <td>0</td>\n",
       "    </tr>\n",
       "    <tr>\n",
       "      <th>...</th>\n",
       "      <td>...</td>\n",
       "      <td>...</td>\n",
       "      <td>...</td>\n",
       "      <td>...</td>\n",
       "      <td>...</td>\n",
       "      <td>...</td>\n",
       "      <td>...</td>\n",
       "      <td>...</td>\n",
       "      <td>...</td>\n",
       "      <td>...</td>\n",
       "      <td>...</td>\n",
       "      <td>...</td>\n",
       "      <td>...</td>\n",
       "    </tr>\n",
       "    <tr>\n",
       "      <th>251500</th>\n",
       "      <td>251501</td>\n",
       "      <td>1128697</td>\n",
       "      <td>31</td>\n",
       "      <td>16</td>\n",
       "      <td>single</td>\n",
       "      <td>rented</td>\n",
       "      <td>no</td>\n",
       "      <td>Computer_hardware_engineer</td>\n",
       "      <td>Jalgaon</td>\n",
       "      <td>Maharashtra</td>\n",
       "      <td>10</td>\n",
       "      <td>13</td>\n",
       "      <td>0</td>\n",
       "    </tr>\n",
       "    <tr>\n",
       "      <th>251600</th>\n",
       "      <td>251601</td>\n",
       "      <td>8809527</td>\n",
       "      <td>59</td>\n",
       "      <td>9</td>\n",
       "      <td>single</td>\n",
       "      <td>rented</td>\n",
       "      <td>no</td>\n",
       "      <td>Official</td>\n",
       "      <td>Gaya</td>\n",
       "      <td>Bihar</td>\n",
       "      <td>8</td>\n",
       "      <td>10</td>\n",
       "      <td>1</td>\n",
       "    </tr>\n",
       "    <tr>\n",
       "      <th>251700</th>\n",
       "      <td>251701</td>\n",
       "      <td>1267453</td>\n",
       "      <td>60</td>\n",
       "      <td>7</td>\n",
       "      <td>single</td>\n",
       "      <td>rented</td>\n",
       "      <td>no</td>\n",
       "      <td>Chef</td>\n",
       "      <td>Chinsurah</td>\n",
       "      <td>West_Bengal</td>\n",
       "      <td>7</td>\n",
       "      <td>11</td>\n",
       "      <td>0</td>\n",
       "    </tr>\n",
       "    <tr>\n",
       "      <th>251800</th>\n",
       "      <td>251801</td>\n",
       "      <td>4144664</td>\n",
       "      <td>45</td>\n",
       "      <td>17</td>\n",
       "      <td>married</td>\n",
       "      <td>rented</td>\n",
       "      <td>no</td>\n",
       "      <td>Design_Engineer</td>\n",
       "      <td>Patiala</td>\n",
       "      <td>Punjab</td>\n",
       "      <td>4</td>\n",
       "      <td>10</td>\n",
       "      <td>0</td>\n",
       "    </tr>\n",
       "    <tr>\n",
       "      <th>251900</th>\n",
       "      <td>251901</td>\n",
       "      <td>1444947</td>\n",
       "      <td>68</td>\n",
       "      <td>0</td>\n",
       "      <td>single</td>\n",
       "      <td>rented</td>\n",
       "      <td>yes</td>\n",
       "      <td>Designer</td>\n",
       "      <td>Katihar</td>\n",
       "      <td>Bihar</td>\n",
       "      <td>0</td>\n",
       "      <td>14</td>\n",
       "      <td>1</td>\n",
       "    </tr>\n",
       "  </tbody>\n",
       "</table>\n",
       "<p>2520 rows × 13 columns</p>\n",
       "</div>"
      ],
      "text/plain": [
       "            Id   income  age  experience  married house_ownership  \\\n",
       "0            1  1303835   23           3   single          rented   \n",
       "100        101  4336059   54          12   single          rented   \n",
       "200        201  5330432   47           2   single          rented   \n",
       "300        301  2277429   42          18   single          rented   \n",
       "400        401  9454655   35           7   single          rented   \n",
       "...        ...      ...  ...         ...      ...             ...   \n",
       "251500  251501  1128697   31          16   single          rented   \n",
       "251600  251601  8809527   59           9   single          rented   \n",
       "251700  251701  1267453   60           7   single          rented   \n",
       "251800  251801  4144664   45          17  married          rented   \n",
       "251900  251901  1444947   68           0   single          rented   \n",
       "\n",
       "       car_ownership                  profession         city           state  \\\n",
       "0                 no         Mechanical_engineer         Rewa  Madhya_Pradesh   \n",
       "100              yes                 Firefighter      Katihar           Bihar   \n",
       "200              yes           Chemical_engineer  Bidhannagar     West_Bengal   \n",
       "300               no                     Analyst    Amaravati  Andhra_Pradesh   \n",
       "400               no                  Magistrate   Srikakulam  Andhra_Pradesh   \n",
       "...              ...                         ...          ...             ...   \n",
       "251500            no  Computer_hardware_engineer      Jalgaon     Maharashtra   \n",
       "251600            no                    Official         Gaya           Bihar   \n",
       "251700            no                        Chef    Chinsurah     West_Bengal   \n",
       "251800            no             Design_Engineer      Patiala          Punjab   \n",
       "251900           yes                    Designer      Katihar           Bihar   \n",
       "\n",
       "        current_job_years  current_house_years  risk_flag  \n",
       "0                       3                   13          0  \n",
       "100                    12                   13          0  \n",
       "200                     2                   10          0  \n",
       "300                     4                   14          0  \n",
       "400                     7                   14          0  \n",
       "...                   ...                  ...        ...  \n",
       "251500                 10                   13          0  \n",
       "251600                  8                   10          1  \n",
       "251700                  7                   11          0  \n",
       "251800                  4                   10          0  \n",
       "251900                  0                   14          1  \n",
       "\n",
       "[2520 rows x 13 columns]"
      ]
     },
     "execution_count": 11,
     "metadata": {},
     "output_type": "execute_result"
    }
   ],
   "source": [
    "df[0::100]"
   ]
  },
  {
   "cell_type": "code",
   "execution_count": 12,
   "metadata": {},
   "outputs": [
    {
     "data": {
      "text/plain": [
       "(252000, 13)"
      ]
     },
     "execution_count": 12,
     "metadata": {},
     "output_type": "execute_result"
    }
   ],
   "source": [
    "df.shape"
   ]
  },
  {
   "cell_type": "markdown",
   "metadata": {},
   "source": [
    "Below is the data being processed by dropping NaN values and Label Encoding for\n",
    "\n",
    "Categorical values"
   ]
  },
  {
   "cell_type": "code",
   "execution_count": 13,
   "metadata": {},
   "outputs": [
    {
     "name": "stdout",
     "output_type": "stream",
     "text": [
      "(252000, 11)\n"
     ]
    }
   ],
   "source": [
    "df.dropna(inplace=True)\n",
    "\n",
    "le = preprocessing.LabelEncoder()\n",
    "df = df.apply(le.fit_transform)\n",
    "\n",
    "#Scale the data?\n",
    "#df = df.drop(['Id'], axis=1)\n",
    "#scaled_df = preprocessing.scale(df)\n",
    "#df = pd.DataFrame(data = scaled_df, columns = df.columns.values)\n",
    "\n",
    "feature_columns = [\"income\",\"age\",\"experience\",\"married\",\"house_ownership\",\n",
    "                   \"car_ownership\",\"profession\",\"city\",\"state\",\"current_job_years\",\"current_house_years\"]\n",
    "X = df[feature_columns]\n",
    "print(X.shape)\n",
    "y = df['risk_flag']"
   ]
  },
  {
   "cell_type": "markdown",
   "metadata": {},
   "source": [
    "Training the dataset as follows\n",
    "\n"
   ]
  },
  {
   "cell_type": "code",
   "execution_count": 14,
   "metadata": {},
   "outputs": [],
   "source": [
    "X_train, X_test, y_train, y_test = train_test_split(X, y, test_size=0.25, random_state = 6)"
   ]
  },
  {
   "cell_type": "markdown",
   "metadata": {},
   "source": [
    "Decision tree classifier below"
   ]
  },
  {
   "cell_type": "code",
   "execution_count": 7,
   "metadata": {},
   "outputs": [
    {
     "name": "stdout",
     "output_type": "stream",
     "text": [
      "Decision Tree accuracy: 0.9340952380952381\n"
     ]
    },
    {
     "data": {
      "image/png": "[encoded data removed]",
      "text/plain": [
       "<Figure size 432x288 with 1 Axes>"
      ]
     },
     "metadata": {
      "needs_background": "light"
     },
     "output_type": "display_data"
    },
    {
     "name": "stdout",
     "output_type": "stream",
     "text": [
      "AUC is:  0.977192597092903\n"
     ]
    }
   ],
   "source": [
    "my_decisiontree = DecisionTreeClassifier()\n",
    "my_decisiontree.fit(X, y)\n",
    "y_predict = my_decisiontree.predict(X_test)\n",
    "\n",
    "accuracy = accuracy_score(y_test, y_predict)\n",
    "\n",
    "print('Decision Tree accuracy:', accuracy)              \n",
    "\n",
    "# Estimating the probability (likelihood) of Each Label: \n",
    "y_predict_prob_dt = my_decisiontree.predict_proba(X_test)\n",
    "\n",
    "\n",
    "fpr, tpr, thresholds = metrics.roc_curve(y_test, y_predict_prob_dt[:,1], pos_label=1)\n",
    "AUC = metrics.auc(fpr, tpr)\n",
    "\n",
    "%matplotlib inline\n",
    "\n",
    "plt.figure()\n",
    "\n",
    "# Roc Curve:\n",
    "plt.plot(fpr, tpr, color='red', lw=2, \n",
    "         label='ROC Curve (area = %0.2f)' % AUC)\n",
    "\n",
    "# Random Guess line:\n",
    "plt.plot([0, 1], [0, 1], color='blue', lw=1, linestyle='--')\n",
    "\n",
    "# Defining The Range of X-Axis and Y-Axis:\n",
    "plt.xlim([-0.005, 1.005])\n",
    "plt.ylim([0.0, 1.01])\n",
    "\n",
    "# Labels, Title, Legend:\n",
    "plt.xlabel('False Positive Rate')\n",
    "plt.ylabel('True Positive Rate')\n",
    "plt.title('Receiver operating characteristic')\n",
    "plt.legend(loc=\"lower right\")\n",
    "\n",
    "plt.show()\n",
    "\n",
    "\n",
    "\n",
    "print(\"AUC is: \", AUC)"
   ]
  },
  {
   "cell_type": "markdown",
   "metadata": {},
   "source": [
    "Knn Classifier below"
   ]
  },
  {
   "cell_type": "code",
   "execution_count": 8,
   "metadata": {},
   "outputs": [
    {
     "name": "stdout",
     "output_type": "stream",
     "text": [
      "Cross validation accuracy for Knn:  0.8886111111111112\n"
     ]
    },
    {
     "data": {
      "image/png": "[encoded data removed]",
      "text/plain": [
       "<Figure size 432x288 with 1 Axes>"
      ]
     },
     "metadata": {
      "needs_background": "light"
     },
     "output_type": "display_data"
    },
    {
     "name": "stdout",
     "output_type": "stream",
     "text": [
      "AUC is:  0.942135559651884\n"
     ]
    }
   ],
   "source": [
    "k = 7\n",
    "my_knn = KNeighborsClassifier(n_neighbors=k)\n",
    "my_knn.fit(X, y)\n",
    "\n",
    "accuracy_list = cross_val_score(my_knn, X, y, cv=10, scoring='accuracy')\n",
    "\n",
    "accuracy_cv = accuracy_list.mean()\n",
    "\n",
    "print('Cross validation accuracy for Knn: ', accuracy_cv)\n",
    "\n",
    "y_predict_prob_knn = my_knn.predict_proba(X_test)\n",
    "\n",
    "\n",
    "fpr, tpr, thresholds = metrics.roc_curve(y_test, y_predict_prob_knn[:,1], pos_label=1)\n",
    "AUC = metrics.auc(fpr, tpr)\n",
    "\n",
    "%matplotlib inline\n",
    "\n",
    "plt.figure()\n",
    "\n",
    "# Roc Curve:\n",
    "plt.plot(fpr, tpr, color='red', lw=2, \n",
    "         label='ROC Curve (area = %0.2f)' % AUC)\n",
    "\n",
    "# Random Guess line:\n",
    "plt.plot([0, 1], [0, 1], color='blue', lw=1, linestyle='--')\n",
    "\n",
    "# Defining The Range of X-Axis and Y-Axis:\n",
    "plt.xlim([-0.005, 1.005])\n",
    "plt.ylim([0.0, 1.01])\n",
    "\n",
    "# Labels, Title, Legend:\n",
    "plt.xlabel('False Positive Rate')\n",
    "plt.ylabel('True Positive Rate')\n",
    "plt.title('Receiver operating characteristic')\n",
    "plt.legend(loc=\"lower right\")\n",
    "\n",
    "plt.show()\n",
    "\n",
    "\n",
    "\n",
    "print(\"AUC is: \", AUC)"
   ]
  },
  {
   "cell_type": "markdown",
   "metadata": {},
   "source": [
    "AdaBoost Classifier below"
   ]
  },
  {
   "cell_type": "code",
   "execution_count": 9,
   "metadata": {},
   "outputs": [
    {
     "name": "stdout",
     "output_type": "stream",
     "text": [
      "Accuracy is: 0.8762222222222222\n"
     ]
    },
    {
     "data": {
      "image/png": "[encoded data removed]",
      "text/plain": [
       "<Figure size 432x288 with 1 Axes>"
      ]
     },
     "metadata": {
      "needs_background": "light"
     },
     "output_type": "display_data"
    },
    {
     "name": "stdout",
     "output_type": "stream",
     "text": [
      "AUC is:  0.5710418008392468\n"
     ]
    }
   ],
   "source": [
    "my_AdaBoost = AdaBoostClassifier(n_estimators = 29,random_state=2)\n",
    "my_AdaBoost.fit(X_train, y_train)\n",
    "y_predict_AB = my_AdaBoost.predict(X_test)\n",
    "accuracy_AB = accuracy_score(y_test,y_predict_AB)\n",
    "print(\"Accuracy is:\", accuracy_AB)\n",
    "\n",
    "#AUC\n",
    "y_predict_prob_AB = my_AdaBoost.predict_proba(X_test)\n",
    "fpr_AB, tpr_AB, thresholds_AB = metrics.roc_curve(y_test, y_predict_prob_AB[:,1], pos_label=1)\n",
    "AUC_AB = metrics.auc(fpr_AB, tpr_AB)\n",
    "#print(AUC_AB)\n",
    "\n",
    "%matplotlib inline\n",
    "\n",
    "plt.figure()\n",
    "\n",
    "# Roc Curve:\n",
    "plt.plot(fpr_AB, tpr_AB, color='red', lw=2, \n",
    "         label='ROC Curve (area = %0.2f)' % AUC_AB)\n",
    "\n",
    "# Random Guess line:\n",
    "plt.plot([0, 1], [0, 1], color='blue', lw=1, linestyle='--')\n",
    "\n",
    "# Defining The Range of X-Axis and Y-Axis:\n",
    "plt.xlim([-0.005, 1.005])\n",
    "plt.ylim([0.0, 1.01])\n",
    "\n",
    "# Labels, Title, Legend:\n",
    "plt.xlabel('False Positive Rate')\n",
    "plt.ylabel('True Positive Rate')\n",
    "plt.title('Receiver operating characteristic')\n",
    "plt.legend(loc=\"lower right\")\n",
    "\n",
    "plt.show()\n",
    "\n",
    "\n",
    "\n",
    "print(\"AUC is: \", AUC_AB)"
   ]
  },
  {
   "cell_type": "markdown",
   "metadata": {},
   "source": [
    "XG Boost Classifier Below"
   ]
  },
  {
   "cell_type": "code",
   "execution_count": 10,
   "metadata": {},
   "outputs": [
    {
     "name": "stdout",
     "output_type": "stream",
     "text": [
      "[16:25:45] WARNING: C:/Users/Administrator/workspace/xgboost-win64_release_1.3.0/src/learner.cc:1061: Starting in XGBoost 1.3.0, the default evaluation metric used with the objective 'binary:logistic' was changed from 'error' to 'logloss'. Explicitly set eval_metric if you'd like to restore the old behavior.\n",
      "Accuracy is: 0.879\n"
     ]
    },
    {
     "data": {
      "image/png": "[encoded data removed]",
      "text/plain": [
       "<Figure size 432x288 with 1 Axes>"
      ]
     },
     "metadata": {
      "needs_background": "light"
     },
     "output_type": "display_data"
    },
    {
     "name": "stdout",
     "output_type": "stream",
     "text": [
      "AUC is:  0.7937278622495803\n"
     ]
    }
   ],
   "source": [
    "my_XGBoost = XGBClassifier(n_estimators = 29,random_state=2, use_label_encoder=False) #last parameter removes warning\n",
    "my_XGBoost.fit(X_train, y_train)\n",
    "y_predict_XG = my_XGBoost.predict(X_test)\n",
    "accuracy_XG = accuracy_score(y_test,y_predict_XG)\n",
    "print(\"Accuracy is:\", accuracy_XG)\n",
    "\n",
    "#AUC\n",
    "y_predict_prob_XG = my_XGBoost.predict_proba(X_test)\n",
    "fpr_XG, tpr_XG, thresholds_XG = metrics.roc_curve(y_test, y_predict_prob_XG[:,1], pos_label=1)\n",
    "AUC_XG = metrics.auc(fpr_XG, tpr_XG)\n",
    "#print(AUC_XG)\n",
    "\n",
    "%matplotlib inline\n",
    "\n",
    "plt.figure()\n",
    "\n",
    "# Roc Curve:\n",
    "plt.plot(fpr_XG, tpr_XG, color='red', lw=2, \n",
    "         label='ROC Curve (area = %0.2f)' % AUC_XG)\n",
    "\n",
    "# Random Guess line:\n",
    "plt.plot([0, 1], [0, 1], color='blue', lw=1, linestyle='--')\n",
    "\n",
    "# Defining The Range of X-Axis and Y-Axis:\n",
    "plt.xlim([-0.005, 1.005])\n",
    "plt.ylim([0.0, 1.01])\n",
    "\n",
    "# Labels, Title, Legend:\n",
    "plt.xlabel('False Positive Rate')\n",
    "plt.ylabel('True Positive Rate')\n",
    "plt.title('Receiver operating characteristic')\n",
    "plt.legend(loc=\"lower right\")\n",
    "\n",
    "plt.show()\n",
    "\n",
    "\n",
    "\n",
    "print(\"AUC is: \", AUC_XG)"
   ]
  },
  {
   "cell_type": "markdown",
   "metadata": {},
   "source": [
    "Random Forest Classifier Below"
   ]
  },
  {
   "cell_type": "code",
   "execution_count": 11,
   "metadata": {},
   "outputs": [
    {
     "name": "stdout",
     "output_type": "stream",
     "text": [
      "Accuracy is: 0.8977936507936508\n"
     ]
    },
    {
     "data": {
      "image/png": "[encoded data removed]",
      "text/plain": [
       "<Figure size 432x288 with 1 Axes>"
      ]
     },
     "metadata": {
      "needs_background": "light"
     },
     "output_type": "display_data"
    },
    {
     "name": "stdout",
     "output_type": "stream",
     "text": [
      "AUC is:  0.9361776054241249\n"
     ]
    }
   ],
   "source": [
    "my_RandomForest = RandomForestClassifier(n_estimators = 29, bootstrap = True, random_state=2)\n",
    "my_RandomForest.fit(X_train, y_train)\n",
    "y_predict_RF = my_RandomForest.predict(X_test)\n",
    "accuracy_RF = accuracy_score(y_test,y_predict_RF)\n",
    "print(\"Accuracy is:\", accuracy_RF)\n",
    "\n",
    "#AUC\n",
    "y_predict_prob_RF = my_RandomForest.predict_proba(X_test)\n",
    "fpr_RF, tpr_RF, thresholds_RF = metrics.roc_curve(y_test, y_predict_prob_RF[:,1], pos_label=1)\n",
    "AUC_RF = metrics.auc(fpr_RF, tpr_RF)\n",
    "#print(AUC_RF)\n",
    "\n",
    "%matplotlib inline\n",
    "\n",
    "plt.figure()\n",
    "\n",
    "# Roc Curve:\n",
    "plt.plot(fpr_RF, tpr_RF, color='red', lw=2, \n",
    "         label='ROC Curve (area = %0.2f)' % AUC_RF)\n",
    "\n",
    "# Random Guess line:\n",
    "plt.plot([0, 1], [0, 1], color='blue', lw=1, linestyle='--')\n",
    "\n",
    "# Defining The Range of X-Axis and Y-Axis:\n",
    "plt.xlim([-0.005, 1.005])\n",
    "plt.ylim([0.0, 1.01])\n",
    "\n",
    "# Labels, Title, Legend:\n",
    "plt.xlabel('False Positive Rate')\n",
    "plt.ylabel('True Positive Rate')\n",
    "plt.title('Receiver operating characteristic')\n",
    "plt.legend(loc=\"lower right\")\n",
    "\n",
    "plt.show()\n",
    "\n",
    "\n",
    "\n",
    "print(\"AUC is: \", AUC_RF)"
   ]
  },
  {
   "cell_type": "markdown",
   "metadata": {},
   "source": [
    "Gaussian Naive Bayesian Classifier below"
   ]
  },
  {
   "cell_type": "code",
   "execution_count": 12,
   "metadata": {},
   "outputs": [
    {
     "name": "stdout",
     "output_type": "stream",
     "text": [
      "\n",
      " Accuracy:  0.8760952380952381\n"
     ]
    },
    {
     "data": {
      "image/png": "[encoded data removed]",
      "text/plain": [
       "<Figure size 432x288 with 1 Axes>"
      ]
     },
     "metadata": {
      "needs_background": "light"
     },
     "output_type": "display_data"
    }
   ],
   "source": [
    "my_nb = GaussianNB()\n",
    "my_nb.fit(X_train, y_train)\n",
    "nb_pred = my_nb.predict(X_test)\n",
    "score_nb = accuracy_score(y_test, nb_pred)\n",
    "nb_pred_proba = my_nb.predict_proba(X_test)\n",
    "print('\\n','Accuracy: ', score_nb)\n",
    "\n",
    "#AUC\n",
    "nb_fpr, nb_tpr, nb_thresholds = metrics.roc_curve(y_test, nb_pred_proba[:,1], pos_label=1)\n",
    "nb_auc = metrics.auc(nb_fpr, nb_tpr)\n",
    "\n",
    "%matplotlib inline\n",
    "\n",
    "plt.figure()\n",
    "\n",
    "# Roc Curve:\n",
    "plt.plot(nb_fpr, nb_tpr, color='red', lw=2, \n",
    "         label='ROC Curve (area = %0.2f)' % nb_auc)\n",
    "\n",
    "# Random Guess line:\n",
    "plt.plot([0, 1], [0, 1], color='green', lw=1, linestyle='--')\n",
    "\n",
    "# Defining The Range of X-Axis and Y-Axis:\n",
    "plt.xlim([-0.005, 1.005])\n",
    "plt.ylim([0.0, 1.01])\n",
    "\n",
    "# Labels, Title, Legend:\n",
    "plt.xlabel('False Positive Rate')\n",
    "plt.ylabel('True Positive Rate')\n",
    "plt.title('Receiver operating characteristic')\n",
    "plt.legend(loc=\"lower right\")\n",
    "\n",
    "plt.show()"
   ]
  },
  {
   "cell_type": "markdown",
   "metadata": {},
   "source": [
    "Linear Regression Below"
   ]
  },
  {
   "cell_type": "code",
   "execution_count": 23,
   "metadata": {},
   "outputs": [
    {
     "name": "stdout",
     "output_type": "stream",
     "text": [
      "0.10144909683845901\n",
      "[-8.99584390e-08 -4.02313321e-04 -2.24257507e-03  2.43464883e-02\n",
      "  2.00899154e-02 -1.69341364e-02 -1.08133228e-04  1.08609823e-05\n",
      " -7.70380349e-05  1.04428340e-03 -7.29630834e-04]\n"
     ]
    }
   ],
   "source": [
    "# In the following line, \"my_linreg\" is instantiated as an \"object\" of LinearRegression \"class\". \n",
    "my_linreg = LinearRegression()\n",
    "\n",
    "# fitting the model to the training data:\n",
    "my_linreg.fit(X_train, y_train)\n",
    "\n",
    "# printing Theta0 using attribute \"intercept_\":\n",
    "print(my_linreg.intercept_)\n",
    "\n",
    "# printing [Theta1, Theta2, Theta3] using attribute \"coef_\":\n",
    "print(my_linreg.coef_)"
   ]
  },
  {
   "cell_type": "code",
   "execution_count": 24,
   "metadata": {},
   "outputs": [
    {
     "name": "stdout",
     "output_type": "stream",
     "text": [
      "[0.1199763  0.11277349 0.09549438 ... 0.08758198 0.11824633 0.05938801]\n"
     ]
    }
   ],
   "source": [
    "# make predictions on the testing set\n",
    "y_prediction = my_linreg.predict(X_test)\n",
    "\n",
    "print(y_prediction)"
   ]
  },
  {
   "cell_type": "code",
   "execution_count": 25,
   "metadata": {},
   "outputs": [
    {
     "name": "stdout",
     "output_type": "stream",
     "text": [
      "0.3272674197609597\n"
     ]
    }
   ],
   "source": [
    "# Calculating \"Mean Square Error\" (MSE):\n",
    "mse = metrics.mean_squared_error(y_test, y_prediction)\n",
    "\n",
    "# Using numpy sqrt function to take the square root and calculate \"Root Mean Square Error\" (RMSE)\n",
    "rmse = np.sqrt(mse)\n",
    "\n",
    "print(rmse)"
   ]
  },
  {
   "cell_type": "markdown",
   "metadata": {},
   "source": [
    "MLP Classifier Below"
   ]
  },
  {
   "cell_type": "code",
   "execution_count": 13,
   "metadata": {},
   "outputs": [
    {
     "name": "stdout",
     "output_type": "stream",
     "text": [
      "Iteration 1, loss = 0.37753239\n",
      "Iteration 2, loss = 0.37638123\n",
      "Iteration 3, loss = 0.37646365\n",
      "Iteration 4, loss = 0.37675153\n",
      "Iteration 5, loss = 0.37591183\n",
      "Iteration 6, loss = 0.37601987\n",
      "Iteration 7, loss = 0.37594735\n",
      "Iteration 8, loss = 0.37540602\n",
      "Iteration 9, loss = 0.37521249\n",
      "Iteration 10, loss = 0.37632461\n",
      "Iteration 11, loss = 0.37608124\n",
      "Iteration 12, loss = 0.37554767\n",
      "Iteration 13, loss = 0.37609803\n",
      "Iteration 14, loss = 0.37575151\n",
      "Iteration 15, loss = 0.37592535\n",
      "Iteration 16, loss = 0.37589895\n",
      "Iteration 17, loss = 0.37659859\n",
      "Iteration 18, loss = 0.37544166\n",
      "Iteration 19, loss = 0.37655355\n",
      "Iteration 20, loss = 0.37559246\n",
      "Training loss did not improve more than tol=0.000100 for 10 consecutive epochs. Stopping.\n",
      "Iteration 1, loss = 0.37710188\n",
      "Iteration 2, loss = 0.37612851\n",
      "Iteration 3, loss = 0.37692992\n",
      "Iteration 4, loss = 0.37570733\n",
      "Iteration 5, loss = 0.37616969\n",
      "Iteration 6, loss = 0.37600638\n",
      "Iteration 7, loss = 0.37538059\n",
      "Iteration 8, loss = 0.37639260\n",
      "Iteration 9, loss = 0.37607317\n",
      "Iteration 10, loss = 0.37561645\n",
      "Iteration 11, loss = 0.37559642\n",
      "Iteration 12, loss = 0.37497918\n",
      "Iteration 13, loss = 0.37631993\n",
      "Iteration 14, loss = 0.37566965\n",
      "Iteration 15, loss = 0.37589662\n",
      "Iteration 16, loss = 0.37653911\n",
      "Iteration 17, loss = 0.37611973\n",
      "Iteration 18, loss = 0.37615572\n",
      "Iteration 19, loss = 0.37612032\n",
      "Iteration 20, loss = 0.37585731\n",
      "Iteration 21, loss = 0.37504326\n",
      "Iteration 22, loss = 0.37572549\n",
      "Iteration 23, loss = 0.37641763\n",
      "Training loss did not improve more than tol=0.000100 for 10 consecutive epochs. Stopping.\n",
      "Iteration 1, loss = 0.37691585\n",
      "Iteration 2, loss = 0.37665397\n",
      "Iteration 3, loss = 0.37664856\n",
      "Iteration 4, loss = 0.37558169\n",
      "Iteration 5, loss = 0.37624709\n",
      "Iteration 6, loss = 0.37565962\n",
      "Iteration 7, loss = 0.37547288\n",
      "Iteration 8, loss = 0.37611858\n",
      "Iteration 9, loss = 0.37586947\n",
      "Iteration 10, loss = 0.37568327\n",
      "Iteration 11, loss = 0.37618784\n",
      "Iteration 12, loss = 0.37565720\n",
      "Iteration 13, loss = 0.37647902\n",
      "Iteration 14, loss = 0.37535920\n",
      "Iteration 15, loss = 0.37603185\n",
      "Iteration 16, loss = 0.37604908\n",
      "Iteration 17, loss = 0.37579887\n",
      "Iteration 18, loss = 0.37629262\n",
      "Iteration 19, loss = 0.37538998\n",
      "Iteration 20, loss = 0.37546810\n",
      "Iteration 21, loss = 0.37499173\n",
      "Iteration 22, loss = 0.37522247\n",
      "Iteration 23, loss = 0.37604477\n",
      "Iteration 24, loss = 0.37579136\n",
      "Iteration 25, loss = 0.37619903\n",
      "Iteration 26, loss = 0.37654884\n",
      "Iteration 27, loss = 0.37509985\n",
      "Iteration 28, loss = 0.37496303\n",
      "Iteration 29, loss = 0.37540496\n",
      "Iteration 30, loss = 0.37626461\n",
      "Iteration 31, loss = 0.37488387\n",
      "Iteration 32, loss = 0.37584142\n",
      "Training loss did not improve more than tol=0.000100 for 10 consecutive epochs. Stopping.\n",
      "Iteration 1, loss = 0.37700551\n",
      "Iteration 2, loss = 0.37664114\n",
      "Iteration 3, loss = 0.37708878\n",
      "Iteration 4, loss = 0.37621156\n",
      "Iteration 5, loss = 0.37569409\n",
      "Iteration 6, loss = 0.37616106\n",
      "Iteration 7, loss = 0.37572706\n",
      "Iteration 8, loss = 0.37707253\n",
      "Iteration 9, loss = 0.37625050\n",
      "Iteration 10, loss = 0.37516537\n",
      "Iteration 11, loss = 0.37504758\n",
      "Iteration 12, loss = 0.37595622\n",
      "Iteration 13, loss = 0.37593872\n",
      "Iteration 14, loss = 0.37595054\n",
      "Iteration 15, loss = 0.37588932\n",
      "Iteration 16, loss = 0.37568536\n",
      "Iteration 17, loss = 0.37597884\n",
      "Iteration 18, loss = 0.37697220\n",
      "Iteration 19, loss = 0.37554107\n",
      "Iteration 20, loss = 0.37567715\n",
      "Iteration 21, loss = 0.37587869\n",
      "Iteration 22, loss = 0.37640759\n",
      "Training loss did not improve more than tol=0.000100 for 10 consecutive epochs. Stopping.\n",
      "Iteration 1, loss = 0.37682085\n",
      "Iteration 2, loss = 0.37778861\n",
      "Iteration 3, loss = 0.37597249\n",
      "Iteration 4, loss = 0.37613105\n",
      "Iteration 5, loss = 0.37642620\n",
      "Iteration 6, loss = 0.37622874\n",
      "Iteration 7, loss = 0.37501092\n",
      "Iteration 8, loss = 0.37597900\n",
      "Iteration 9, loss = 0.37655854\n",
      "Iteration 10, loss = 0.37563484\n",
      "Iteration 11, loss = 0.37540799\n",
      "Iteration 12, loss = 0.37605515\n",
      "Iteration 13, loss = 0.37599570\n",
      "Iteration 14, loss = 0.37608211\n",
      "Iteration 15, loss = 0.37634317\n",
      "Iteration 16, loss = 0.37599538\n",
      "Iteration 17, loss = 0.37625513\n",
      "Iteration 18, loss = 0.37700147\n",
      "Training loss did not improve more than tol=0.000100 for 10 consecutive epochs. Stopping.\n",
      "Iteration 1, loss = 0.37696518\n",
      "Iteration 2, loss = 0.37774473\n",
      "Iteration 3, loss = 0.37612396\n",
      "Iteration 4, loss = 0.37604298\n",
      "Iteration 5, loss = 0.37569992\n",
      "Iteration 6, loss = 0.37598684\n",
      "Iteration 7, loss = 0.37583626\n",
      "Iteration 8, loss = 0.37581973\n",
      "Iteration 9, loss = 0.37541262\n",
      "Iteration 10, loss = 0.37564781\n",
      "Iteration 11, loss = 0.37582042\n",
      "Iteration 12, loss = 0.37570859\n",
      "Iteration 13, loss = 0.37626988\n",
      "Iteration 14, loss = 0.37547321\n",
      "Iteration 15, loss = 0.37549920\n",
      "Iteration 16, loss = 0.37588879\n",
      "Iteration 17, loss = 0.37629596\n",
      "Iteration 18, loss = 0.37554889\n",
      "Iteration 19, loss = 0.37532018\n",
      "Iteration 20, loss = 0.37592395\n",
      "Training loss did not improve more than tol=0.000100 for 10 consecutive epochs. Stopping.\n",
      "Iteration 1, loss = 0.37686595\n",
      "Iteration 2, loss = 0.37665844\n",
      "Iteration 3, loss = 0.37608786\n",
      "Iteration 4, loss = 0.37557901\n",
      "Iteration 5, loss = 0.37606215\n",
      "Iteration 6, loss = 0.37634387\n",
      "Iteration 7, loss = 0.37597624\n",
      "Iteration 8, loss = 0.37686854\n",
      "Iteration 9, loss = 0.37518913\n",
      "Iteration 10, loss = 0.37639232\n",
      "Iteration 11, loss = 0.37558878\n",
      "Iteration 12, loss = 0.37600204\n",
      "Iteration 13, loss = 0.37551305\n",
      "Iteration 14, loss = 0.37533932\n",
      "Iteration 15, loss = 0.37573131\n",
      "Iteration 16, loss = 0.37609938\n",
      "Iteration 17, loss = 0.37566281\n",
      "Iteration 18, loss = 0.37578363\n",
      "Iteration 19, loss = 0.37534243\n",
      "Iteration 20, loss = 0.37612154\n",
      "Training loss did not improve more than tol=0.000100 for 10 consecutive epochs. Stopping.\n",
      "Iteration 1, loss = 0.37653829\n",
      "Iteration 2, loss = 0.37708734\n",
      "Iteration 3, loss = 0.37645147\n",
      "Iteration 4, loss = 0.37672607\n",
      "Iteration 5, loss = 0.37589318\n",
      "Iteration 6, loss = 0.37527074\n",
      "Iteration 7, loss = 0.37606173\n",
      "Iteration 8, loss = 0.37641238\n",
      "Iteration 9, loss = 0.37599798\n",
      "Iteration 10, loss = 0.37588473\n",
      "Iteration 11, loss = 0.37588281\n",
      "Iteration 12, loss = 0.37608461\n",
      "Iteration 13, loss = 0.37594248\n",
      "Iteration 14, loss = 0.37552324\n",
      "Iteration 15, loss = 0.37549198\n",
      "Iteration 16, loss = 0.37582781\n",
      "Iteration 17, loss = 0.37555153\n",
      "Training loss did not improve more than tol=0.000100 for 10 consecutive epochs. Stopping.\n",
      "Iteration 1, loss = 0.37654913\n",
      "Iteration 2, loss = 0.37704137\n",
      "Iteration 3, loss = 0.37583398\n",
      "Iteration 4, loss = 0.37630894\n",
      "Iteration 5, loss = 0.37698523\n",
      "Iteration 6, loss = 0.37619637\n",
      "Iteration 7, loss = 0.37560841\n",
      "Iteration 8, loss = 0.37652583\n",
      "Iteration 9, loss = 0.37630703\n",
      "Iteration 10, loss = 0.37598258\n",
      "Iteration 11, loss = 0.37479367\n",
      "Iteration 12, loss = 0.37610622\n",
      "Iteration 13, loss = 0.37571873\n",
      "Iteration 14, loss = 0.37575653\n",
      "Iteration 15, loss = 0.37599658\n",
      "Iteration 16, loss = 0.37623425\n",
      "Iteration 17, loss = 0.37528118\n",
      "Iteration 18, loss = 0.37648154\n",
      "Iteration 19, loss = 0.37532251\n",
      "Iteration 20, loss = 0.37598875\n",
      "Iteration 21, loss = 0.37552738\n",
      "Iteration 22, loss = 0.37597579\n",
      "Training loss did not improve more than tol=0.000100 for 10 consecutive epochs. Stopping.\n",
      "Iteration 1, loss = 0.37658256\n",
      "Iteration 2, loss = 0.37762031\n",
      "Iteration 3, loss = 0.37686543\n",
      "Iteration 4, loss = 0.37674309\n",
      "Iteration 5, loss = 0.37687236\n",
      "Iteration 6, loss = 0.37586879\n",
      "Iteration 7, loss = 0.37631478\n",
      "Iteration 8, loss = 0.37728277\n",
      "Iteration 9, loss = 0.37600636\n",
      "Iteration 10, loss = 0.37555487\n",
      "Iteration 11, loss = 0.37521768\n",
      "Iteration 12, loss = 0.37606615\n",
      "Iteration 13, loss = 0.37583702\n",
      "Iteration 14, loss = 0.37593450\n",
      "Iteration 15, loss = 0.37597628\n",
      "Iteration 16, loss = 0.37658919\n",
      "Iteration 17, loss = 0.37596288\n",
      "Iteration 18, loss = 0.37498417\n",
      "Iteration 19, loss = 0.37595575\n",
      "Iteration 20, loss = 0.37564173\n",
      "Iteration 21, loss = 0.37560028\n",
      "Iteration 22, loss = 0.37562303\n",
      "Iteration 23, loss = 0.37497814\n",
      "Iteration 24, loss = 0.37530981\n",
      "Iteration 25, loss = 0.37651750\n",
      "Iteration 26, loss = 0.37539472\n",
      "Iteration 27, loss = 0.37568360\n",
      "Iteration 28, loss = 0.37602639\n",
      "Iteration 29, loss = 0.37530651\n",
      "Training loss did not improve more than tol=0.000100 for 10 consecutive epochs. Stopping.\n",
      "\n",
      "\n",
      " accuracy:  [0.87702381 0.87702381 0.87702381 0.87702381 0.87698413 0.87698413\n",
      " 0.87698413 0.87698413 0.87698413 0.87698413]\n"
     ]
    }
   ],
   "source": [
    "X_train, X_test, y_train, y_test = train_test_split(X, y, test_size=0.2, random_state=2)\n",
    "\n",
    "my_ANN = MLPClassifier(hidden_layer_sizes=(30,), activation= 'logistic', \n",
    "                       solver='adam', alpha=1, random_state=1, \n",
    "                       learning_rate_init = 0.02, verbose=True, tol=0.0001)\n",
    "\n",
    "accuracy_list = cross_val_score(my_ANN, X, y, cv=10, scoring='accuracy')\n",
    "\n",
    "print('\\n\\n','accuracy: ',accuracy_list)"
   ]
  },
  {
   "cell_type": "code",
   "execution_count": 20,
   "metadata": {},
   "outputs": [
    {
     "name": "stdout",
     "output_type": "stream",
     "text": [
      "Accuracy results from our cross validation: 0.877\n"
     ]
    }
   ],
   "source": [
    "accuracy_cv = accuracy_list.mean()\n",
    "\n",
    "print(\"Accuracy results from our cross validation:\", accuracy_cv)"
   ]
  },
  {
   "cell_type": "markdown",
   "metadata": {},
   "source": [
    "Here we fit the ANN model and calculate the accuracy of the predictions"
   ]
  },
  {
   "cell_type": "code",
   "execution_count": 15,
   "metadata": {},
   "outputs": [
    {
     "name": "stdout",
     "output_type": "stream",
     "text": [
      "Iteration 1, loss = 0.37726979\n",
      "Iteration 2, loss = 0.37801013\n",
      "Iteration 3, loss = 0.37698461\n",
      "Iteration 4, loss = 0.37599443\n",
      "Iteration 5, loss = 0.37633537\n",
      "Iteration 6, loss = 0.37600821\n",
      "Iteration 7, loss = 0.37658847\n",
      "Iteration 8, loss = 0.37584299\n",
      "Iteration 9, loss = 0.37626336\n",
      "Iteration 10, loss = 0.37605616\n",
      "Iteration 11, loss = 0.37573675\n",
      "Iteration 12, loss = 0.37621095\n",
      "Iteration 13, loss = 0.37657184\n",
      "Iteration 14, loss = 0.37687456\n",
      "Iteration 15, loss = 0.37627103\n",
      "Iteration 16, loss = 0.37663473\n",
      "Iteration 17, loss = 0.37599562\n",
      "Iteration 18, loss = 0.37614228\n",
      "Iteration 19, loss = 0.37629587\n",
      "Iteration 20, loss = 0.37551571\n",
      "Iteration 21, loss = 0.37574411\n",
      "Iteration 22, loss = 0.37592304\n",
      "Iteration 23, loss = 0.37575611\n",
      "Iteration 24, loss = 0.37673181\n",
      "Iteration 25, loss = 0.37646414\n",
      "Iteration 26, loss = 0.37589561\n",
      "Iteration 27, loss = 0.37633867\n",
      "Iteration 28, loss = 0.37546720\n",
      "Iteration 29, loss = 0.37656197\n",
      "Iteration 30, loss = 0.37584754\n",
      "Iteration 31, loss = 0.37586513\n",
      "Training loss did not improve more than tol=0.000100 for 10 consecutive epochs. Stopping.\n"
     ]
    },
    {
     "data": {
      "text/plain": [
       "MLPClassifier(activation='logistic', alpha=1, hidden_layer_sizes=(30,),\n",
       "              learning_rate_init=0.02, random_state=1, verbose=True)"
      ]
     },
     "execution_count": 15,
     "metadata": {},
     "output_type": "execute_result"
    }
   ],
   "source": [
    "my_ANN.fit(X_train, y_train)"
   ]
  },
  {
   "cell_type": "code",
   "execution_count": 21,
   "metadata": {},
   "outputs": [
    {
     "name": "stdout",
     "output_type": "stream",
     "text": [
      "Accuracy:  0.8775595238095238\n"
     ]
    }
   ],
   "source": [
    "y_predict_ann = my_ANN.predict(X_test)\n",
    "#print(y_predict_ann)\n",
    "score_ann = accuracy_score(y_test, y_predict_ann)\n",
    "print(\"Accuracy: \",score_ann)"
   ]
  },
  {
   "cell_type": "code",
   "execution_count": 17,
   "metadata": {},
   "outputs": [],
   "source": [
    "ann_pred_proba = my_ANN.predict_proba(X_test)\n",
    "ann_fpr, ann_tpr, ann_thresholds = metrics.roc_curve(y_test, ann_pred_proba[:,1], pos_label=1)\n",
    "ann_auc = metrics.auc(ann_fpr, ann_tpr)"
   ]
  },
  {
   "cell_type": "code",
   "execution_count": 18,
   "metadata": {},
   "outputs": [
    {
     "data": {
      "image/png": "[encoded data removed]",
      "text/plain": [
       "<Figure size 432x288 with 1 Axes>"
      ]
     },
     "metadata": {
      "needs_background": "light"
     },
     "output_type": "display_data"
    }
   ],
   "source": [
    "%matplotlib inline\n",
    "\n",
    "plt.figure()\n",
    "\n",
    "# Roc Curve:\n",
    "plt.plot(ann_fpr, ann_tpr, color='red', lw=2, \n",
    "         label='ROC Curve (area = %0.2f)' % ann_auc)\n",
    "\n",
    "# Random Guess line:\n",
    "plt.plot([0, 1], [0, 1], color='blue', lw=1, linestyle='--')\n",
    "\n",
    "# Defining The Range of X-Axis and Y-Axis:\n",
    "plt.xlim([-0.005, 1.005])\n",
    "plt.ylim([0.0, 1.01])\n",
    "\n",
    "# Labels, Title, Legend:\n",
    "plt.xlabel('False Positive Rate')\n",
    "plt.ylabel('True Positive Rate')\n",
    "plt.title('Receiver operating characteristic')\n",
    "plt.legend(loc=\"lower right\")\n",
    "\n",
    "plt.show()"
   ]
  },
  {
   "cell_type": "markdown",
   "metadata": {},
   "source": [
    "GridSearch for our ANN model"
   ]
  },
  {
   "cell_type": "code",
   "execution_count": null,
   "metadata": {},
   "outputs": [
    {
     "name": "stdout",
     "output_type": "stream",
     "text": [
      "{'hidden_layer_sizes': [(1, 1), (1, 2), (1, 3), (1, 4), (2, 1), (2, 2), (2, 3), (2, 4), (3, 1), (3, 2), (3, 3), (3, 4), (4, 1), (4, 2), (4, 3), (4, 4)]} \n",
      "\n"
     ]
    }
   ],
   "source": [
    "neuron_number = [(i,j) for i in range(1,5) for j in range(1,5)]                    \n",
    "\n",
    "# create a dictionary for grid parameter:\n",
    "param_grid = dict(hidden_layer_sizes = neuron_number)\n",
    "print(param_grid,'\\n')\n",
    "\n",
    "# instantiate the model:\n",
    "my_ANN = MLPClassifier(activation='logistic', solver='adam', \n",
    "                                         alpha=1e-5, random_state=1, \n",
    "                                         learning_rate_init = 0.1, max_iter=400)\n",
    "\n",
    "# creat the grid, and define the metric for evaluating the model: \n",
    "grid = GridSearchCV(my_ANN, param_grid, cv=10, scoring='accuracy')\n",
    "\n",
    "# fit the grid (start the grid search):\n",
    "grid.fit(X, y)\n",
    "\n",
    "# view the results:\n",
    "# print(grid.cv_results_)\n",
    "\n",
    "# view the best results corresponding to the best structure of ANN:\n",
    "print(grid.best_score_)\n",
    "print(grid.best_params_)"
   ]
  },
  {
   "cell_type": "markdown",
   "metadata": {},
   "source": [
    "Below is our LinearSVC Implementation\n",
    "\n",
    "Achieved an accuracy of 0.8760952380952381\n",
    "\n",
    "AUC is 0.509"
   ]
  },
  {
   "cell_type": "code",
   "execution_count": 18,
   "metadata": {},
   "outputs": [
    {
     "name": "stdout",
     "output_type": "stream",
     "text": [
      "hello\n"
     ]
    },
    {
     "name": "stderr",
     "output_type": "stream",
     "text": [
      "/usr/local/lib/python3.8/site-packages/sklearn/svm/_base.py:976: ConvergenceWarning: Liblinear failed to converge, increase the number of iterations.\n",
      "  warnings.warn(\"Liblinear failed to converge, increase \"\n"
     ]
    },
    {
     "name": "stdout",
     "output_type": "stream",
     "text": [
      "Accuracy is:  0.8760952380952381\n",
      "AUC: 0.509\n"
     ]
    },
    {
     "data": {
      "image/png": "[encoded data removed]",
      "text/plain": [
       "<Figure size 432x288 with 1 Axes>"
      ]
     },
     "metadata": {
      "needs_background": "light"
     },
     "output_type": "display_data"
    }
   ],
   "source": [
    "from sklearn.svm import SVC\n",
    "from sklearn.svm import LinearSVC\n",
    "from sklearn.metrics import roc_auc_score\n",
    "\n",
    "# c_value = [0.1, 1, 10, 100 ]\n",
    "# param_grid = dict(C = c_value)\n",
    "# grid = GridSearchCV(svm, param_grid, cv=10, scoring='accuracy')\n",
    "# grid.fit(X, y)\n",
    "\n",
    "# print(grid.best_score_)\n",
    "\n",
    "# print(grid.best_params_)\n",
    "print('hello')\n",
    "\n",
    "svm = LinearSVC(C=1, max_iter=7000)\n",
    "\n",
    "svm.fit(X_train, y_train)\n",
    "\n",
    "y_pred = svm.predict(X_test)\n",
    "\n",
    "score = accuracy_score(y_test, y_pred)\n",
    "\n",
    "print('Accuracy is: ', score)\n",
    "\n",
    "decision_scores = svm.decision_function(X_test)\n",
    "fpr, tpr, thres = metrics.roc_curve(y_test, decision_scores)\n",
    "print('AUC: {:.3f}'.format(roc_auc_score(y_test, decision_scores)))\n",
    "\n",
    "# roc curve\n",
    "plt.plot(fpr, tpr, \"b\", label='Linear SVM')\n",
    "plt.plot([0,1],[0,1], \"k--\", label='Random Guess')\n",
    "plt.xlabel(\"false positive rate\")\n",
    "plt.ylabel(\"true positive rate\")\n",
    "plt.legend(loc=\"best\")\n",
    "plt.title(\"ROC curve\")\n",
    "plt.show()\n",
    "\n",
    "# Accuracy is:  0.8760952380952381\n",
    "# AUC: 0.509\n"
   ]
  },
  {
   "cell_type": "code",
   "execution_count": null,
   "metadata": {},
   "outputs": [],
   "source": []
  }
 ],
 "metadata": {
  "kernelspec": {
   "display_name": "Python 3",
   "language": "python",
   "name": "python3"
  },
  "language_info": {
   "codemirror_mode": {
    "name": "ipython",
    "version": 3
   },
   "file_extension": ".py",
   "mimetype": "text/x-python",
   "name": "python",
   "nbconvert_exporter": "python",
   "pygments_lexer": "ipython3",
   "version": "3.8.3"
  }
 },
 "nbformat": 4,
 "nbformat_minor": 4
}
